{
  "cells": [
    {
      "cell_type": "markdown",
      "metadata": {
        "id": "8r6S-FCew1ik"
      },
      "source": [
        "# Data Loading and Preparation\n",
        "\n",
        "This section loads the preprocessed dataset from a CSV file and prepares it for modeling. It begins by disabling warnings for cleaner output and then reads in the data using pandas. The target column 'No-show' is renamed to 'NoShow' for convenience and clarity. The shape of the dataset is printed, and the first few rows are displayed to understand the structure of the data."
      ]
    },
    {
      "cell_type": "code",
      "execution_count": 41,
      "metadata": {
        "colab": {
          "base_uri": "https://localhost:8080/",
          "height": 308
        },
        "id": "FPhyBR3BkjJP",
        "outputId": "cd5f41e2-9de3-4078-9870-7696469ba736"
      },
      "outputs": [
        {
          "output_type": "stream",
          "name": "stdout",
          "text": [
            "Rows: 110526, Columns: 149\n"
          ]
        },
        {
          "output_type": "execute_result",
          "data": {
            "text/plain": [
              "   Gender       Age  Scholarship  Hipertension  Diabetes  Alcoholism  Handcap  \\\n",
              "0       0  0.539130            0             1         0           0        0   \n",
              "1       1  0.486957            0             0         0           0        0   \n",
              "2       0  0.539130            0             0         0           0        0   \n",
              "3       0  0.069565            0             0         0           0        0   \n",
              "4       0  0.486957            0             1         1           0        0   \n",
              "\n",
              "   SMS_received  DaysBetween  ScheduledWeekday  ...  \\\n",
              "0             0     0.032432                 4  ...   \n",
              "1             0     0.032432                 4  ...   \n",
              "2             0     0.032432                 4  ...   \n",
              "3             0     0.032432                 4  ...   \n",
              "4             0     0.032432                 4  ...   \n",
              "\n",
              "   AppointmentDay_2016-05-25T00:00:00.000000000  \\\n",
              "0                                           0.0   \n",
              "1                                           0.0   \n",
              "2                                           0.0   \n",
              "3                                           0.0   \n",
              "4                                           0.0   \n",
              "\n",
              "   AppointmentDay_2016-05-30T00:00:00.000000000  \\\n",
              "0                                           0.0   \n",
              "1                                           0.0   \n",
              "2                                           0.0   \n",
              "3                                           0.0   \n",
              "4                                           0.0   \n",
              "\n",
              "   AppointmentDay_2016-05-31T00:00:00.000000000  \\\n",
              "0                                           0.0   \n",
              "1                                           0.0   \n",
              "2                                           0.0   \n",
              "3                                           0.0   \n",
              "4                                           0.0   \n",
              "\n",
              "   AppointmentDay_2016-06-01T00:00:00.000000000  \\\n",
              "0                                           0.0   \n",
              "1                                           0.0   \n",
              "2                                           0.0   \n",
              "3                                           0.0   \n",
              "4                                           0.0   \n",
              "\n",
              "   AppointmentDay_2016-06-02T00:00:00.000000000  \\\n",
              "0                                           0.0   \n",
              "1                                           0.0   \n",
              "2                                           0.0   \n",
              "3                                           0.0   \n",
              "4                                           0.0   \n",
              "\n",
              "   AppointmentDay_2016-06-03T00:00:00.000000000  \\\n",
              "0                                           0.0   \n",
              "1                                           0.0   \n",
              "2                                           0.0   \n",
              "3                                           0.0   \n",
              "4                                           0.0   \n",
              "\n",
              "   AppointmentDay_2016-06-06T00:00:00.000000000  \\\n",
              "0                                           0.0   \n",
              "1                                           0.0   \n",
              "2                                           0.0   \n",
              "3                                           0.0   \n",
              "4                                           0.0   \n",
              "\n",
              "   AppointmentDay_2016-06-07T00:00:00.000000000  \\\n",
              "0                                           0.0   \n",
              "1                                           0.0   \n",
              "2                                           0.0   \n",
              "3                                           0.0   \n",
              "4                                           0.0   \n",
              "\n",
              "   AppointmentDay_2016-06-08T00:00:00.000000000  NoShow  \n",
              "0                                           0.0       0  \n",
              "1                                           0.0       0  \n",
              "2                                           0.0       0  \n",
              "3                                           0.0       0  \n",
              "4                                           0.0       0  \n",
              "\n",
              "[5 rows x 149 columns]"
            ],
            "text/html": [
              "\n",
              "  <div id=\"df-400f2ca6-f56e-4413-a3bd-413bdc4fa016\" class=\"colab-df-container\">\n",
              "    <div>\n",
              "<style scoped>\n",
              "    .dataframe tbody tr th:only-of-type {\n",
              "        vertical-align: middle;\n",
              "    }\n",
              "\n",
              "    .dataframe tbody tr th {\n",
              "        vertical-align: top;\n",
              "    }\n",
              "\n",
              "    .dataframe thead th {\n",
              "        text-align: right;\n",
              "    }\n",
              "</style>\n",
              "<table border=\"1\" class=\"dataframe\">\n",
              "  <thead>\n",
              "    <tr style=\"text-align: right;\">\n",
              "      <th></th>\n",
              "      <th>Gender</th>\n",
              "      <th>Age</th>\n",
              "      <th>Scholarship</th>\n",
              "      <th>Hipertension</th>\n",
              "      <th>Diabetes</th>\n",
              "      <th>Alcoholism</th>\n",
              "      <th>Handcap</th>\n",
              "      <th>SMS_received</th>\n",
              "      <th>DaysBetween</th>\n",
              "      <th>ScheduledWeekday</th>\n",
              "      <th>...</th>\n",
              "      <th>AppointmentDay_2016-05-25T00:00:00.000000000</th>\n",
              "      <th>AppointmentDay_2016-05-30T00:00:00.000000000</th>\n",
              "      <th>AppointmentDay_2016-05-31T00:00:00.000000000</th>\n",
              "      <th>AppointmentDay_2016-06-01T00:00:00.000000000</th>\n",
              "      <th>AppointmentDay_2016-06-02T00:00:00.000000000</th>\n",
              "      <th>AppointmentDay_2016-06-03T00:00:00.000000000</th>\n",
              "      <th>AppointmentDay_2016-06-06T00:00:00.000000000</th>\n",
              "      <th>AppointmentDay_2016-06-07T00:00:00.000000000</th>\n",
              "      <th>AppointmentDay_2016-06-08T00:00:00.000000000</th>\n",
              "      <th>NoShow</th>\n",
              "    </tr>\n",
              "  </thead>\n",
              "  <tbody>\n",
              "    <tr>\n",
              "      <th>0</th>\n",
              "      <td>0</td>\n",
              "      <td>0.539130</td>\n",
              "      <td>0</td>\n",
              "      <td>1</td>\n",
              "      <td>0</td>\n",
              "      <td>0</td>\n",
              "      <td>0</td>\n",
              "      <td>0</td>\n",
              "      <td>0.032432</td>\n",
              "      <td>4</td>\n",
              "      <td>...</td>\n",
              "      <td>0.0</td>\n",
              "      <td>0.0</td>\n",
              "      <td>0.0</td>\n",
              "      <td>0.0</td>\n",
              "      <td>0.0</td>\n",
              "      <td>0.0</td>\n",
              "      <td>0.0</td>\n",
              "      <td>0.0</td>\n",
              "      <td>0.0</td>\n",
              "      <td>0</td>\n",
              "    </tr>\n",
              "    <tr>\n",
              "      <th>1</th>\n",
              "      <td>1</td>\n",
              "      <td>0.486957</td>\n",
              "      <td>0</td>\n",
              "      <td>0</td>\n",
              "      <td>0</td>\n",
              "      <td>0</td>\n",
              "      <td>0</td>\n",
              "      <td>0</td>\n",
              "      <td>0.032432</td>\n",
              "      <td>4</td>\n",
              "      <td>...</td>\n",
              "      <td>0.0</td>\n",
              "      <td>0.0</td>\n",
              "      <td>0.0</td>\n",
              "      <td>0.0</td>\n",
              "      <td>0.0</td>\n",
              "      <td>0.0</td>\n",
              "      <td>0.0</td>\n",
              "      <td>0.0</td>\n",
              "      <td>0.0</td>\n",
              "      <td>0</td>\n",
              "    </tr>\n",
              "    <tr>\n",
              "      <th>2</th>\n",
              "      <td>0</td>\n",
              "      <td>0.539130</td>\n",
              "      <td>0</td>\n",
              "      <td>0</td>\n",
              "      <td>0</td>\n",
              "      <td>0</td>\n",
              "      <td>0</td>\n",
              "      <td>0</td>\n",
              "      <td>0.032432</td>\n",
              "      <td>4</td>\n",
              "      <td>...</td>\n",
              "      <td>0.0</td>\n",
              "      <td>0.0</td>\n",
              "      <td>0.0</td>\n",
              "      <td>0.0</td>\n",
              "      <td>0.0</td>\n",
              "      <td>0.0</td>\n",
              "      <td>0.0</td>\n",
              "      <td>0.0</td>\n",
              "      <td>0.0</td>\n",
              "      <td>0</td>\n",
              "    </tr>\n",
              "    <tr>\n",
              "      <th>3</th>\n",
              "      <td>0</td>\n",
              "      <td>0.069565</td>\n",
              "      <td>0</td>\n",
              "      <td>0</td>\n",
              "      <td>0</td>\n",
              "      <td>0</td>\n",
              "      <td>0</td>\n",
              "      <td>0</td>\n",
              "      <td>0.032432</td>\n",
              "      <td>4</td>\n",
              "      <td>...</td>\n",
              "      <td>0.0</td>\n",
              "      <td>0.0</td>\n",
              "      <td>0.0</td>\n",
              "      <td>0.0</td>\n",
              "      <td>0.0</td>\n",
              "      <td>0.0</td>\n",
              "      <td>0.0</td>\n",
              "      <td>0.0</td>\n",
              "      <td>0.0</td>\n",
              "      <td>0</td>\n",
              "    </tr>\n",
              "    <tr>\n",
              "      <th>4</th>\n",
              "      <td>0</td>\n",
              "      <td>0.486957</td>\n",
              "      <td>0</td>\n",
              "      <td>1</td>\n",
              "      <td>1</td>\n",
              "      <td>0</td>\n",
              "      <td>0</td>\n",
              "      <td>0</td>\n",
              "      <td>0.032432</td>\n",
              "      <td>4</td>\n",
              "      <td>...</td>\n",
              "      <td>0.0</td>\n",
              "      <td>0.0</td>\n",
              "      <td>0.0</td>\n",
              "      <td>0.0</td>\n",
              "      <td>0.0</td>\n",
              "      <td>0.0</td>\n",
              "      <td>0.0</td>\n",
              "      <td>0.0</td>\n",
              "      <td>0.0</td>\n",
              "      <td>0</td>\n",
              "    </tr>\n",
              "  </tbody>\n",
              "</table>\n",
              "<p>5 rows × 149 columns</p>\n",
              "</div>\n",
              "    <div class=\"colab-df-buttons\">\n",
              "\n",
              "  <div class=\"colab-df-container\">\n",
              "    <button class=\"colab-df-convert\" onclick=\"convertToInteractive('df-400f2ca6-f56e-4413-a3bd-413bdc4fa016')\"\n",
              "            title=\"Convert this dataframe to an interactive table.\"\n",
              "            style=\"display:none;\">\n",
              "\n",
              "  <svg xmlns=\"http://www.w3.org/2000/svg\" height=\"24px\" viewBox=\"0 -960 960 960\">\n",
              "    <path d=\"M120-120v-720h720v720H120Zm60-500h600v-160H180v160Zm220 220h160v-160H400v160Zm0 220h160v-160H400v160ZM180-400h160v-160H180v160Zm440 0h160v-160H620v160ZM180-180h160v-160H180v160Zm440 0h160v-160H620v160Z\"/>\n",
              "  </svg>\n",
              "    </button>\n",
              "\n",
              "  <style>\n",
              "    .colab-df-container {\n",
              "      display:flex;\n",
              "      gap: 12px;\n",
              "    }\n",
              "\n",
              "    .colab-df-convert {\n",
              "      background-color: #E8F0FE;\n",
              "      border: none;\n",
              "      border-radius: 50%;\n",
              "      cursor: pointer;\n",
              "      display: none;\n",
              "      fill: #1967D2;\n",
              "      height: 32px;\n",
              "      padding: 0 0 0 0;\n",
              "      width: 32px;\n",
              "    }\n",
              "\n",
              "    .colab-df-convert:hover {\n",
              "      background-color: #E2EBFA;\n",
              "      box-shadow: 0px 1px 2px rgba(60, 64, 67, 0.3), 0px 1px 3px 1px rgba(60, 64, 67, 0.15);\n",
              "      fill: #174EA6;\n",
              "    }\n",
              "\n",
              "    .colab-df-buttons div {\n",
              "      margin-bottom: 4px;\n",
              "    }\n",
              "\n",
              "    [theme=dark] .colab-df-convert {\n",
              "      background-color: #3B4455;\n",
              "      fill: #D2E3FC;\n",
              "    }\n",
              "\n",
              "    [theme=dark] .colab-df-convert:hover {\n",
              "      background-color: #434B5C;\n",
              "      box-shadow: 0px 1px 3px 1px rgba(0, 0, 0, 0.15);\n",
              "      filter: drop-shadow(0px 1px 2px rgba(0, 0, 0, 0.3));\n",
              "      fill: #FFFFFF;\n",
              "    }\n",
              "  </style>\n",
              "\n",
              "    <script>\n",
              "      const buttonEl =\n",
              "        document.querySelector('#df-400f2ca6-f56e-4413-a3bd-413bdc4fa016 button.colab-df-convert');\n",
              "      buttonEl.style.display =\n",
              "        google.colab.kernel.accessAllowed ? 'block' : 'none';\n",
              "\n",
              "      async function convertToInteractive(key) {\n",
              "        const element = document.querySelector('#df-400f2ca6-f56e-4413-a3bd-413bdc4fa016');\n",
              "        const dataTable =\n",
              "          await google.colab.kernel.invokeFunction('convertToInteractive',\n",
              "                                                    [key], {});\n",
              "        if (!dataTable) return;\n",
              "\n",
              "        const docLinkHtml = 'Like what you see? Visit the ' +\n",
              "          '<a target=\"_blank\" href=https://colab.research.google.com/notebooks/data_table.ipynb>data table notebook</a>'\n",
              "          + ' to learn more about interactive tables.';\n",
              "        element.innerHTML = '';\n",
              "        dataTable['output_type'] = 'display_data';\n",
              "        await google.colab.output.renderOutput(dataTable, element);\n",
              "        const docLink = document.createElement('div');\n",
              "        docLink.innerHTML = docLinkHtml;\n",
              "        element.appendChild(docLink);\n",
              "      }\n",
              "    </script>\n",
              "  </div>\n",
              "\n",
              "\n",
              "    <div id=\"df-9cda431a-cb88-4e4d-bbd4-53c9a031d957\">\n",
              "      <button class=\"colab-df-quickchart\" onclick=\"quickchart('df-9cda431a-cb88-4e4d-bbd4-53c9a031d957')\"\n",
              "                title=\"Suggest charts\"\n",
              "                style=\"display:none;\">\n",
              "\n",
              "<svg xmlns=\"http://www.w3.org/2000/svg\" height=\"24px\"viewBox=\"0 0 24 24\"\n",
              "     width=\"24px\">\n",
              "    <g>\n",
              "        <path d=\"M19 3H5c-1.1 0-2 .9-2 2v14c0 1.1.9 2 2 2h14c1.1 0 2-.9 2-2V5c0-1.1-.9-2-2-2zM9 17H7v-7h2v7zm4 0h-2V7h2v10zm4 0h-2v-4h2v4z\"/>\n",
              "    </g>\n",
              "</svg>\n",
              "      </button>\n",
              "\n",
              "<style>\n",
              "  .colab-df-quickchart {\n",
              "      --bg-color: #E8F0FE;\n",
              "      --fill-color: #1967D2;\n",
              "      --hover-bg-color: #E2EBFA;\n",
              "      --hover-fill-color: #174EA6;\n",
              "      --disabled-fill-color: #AAA;\n",
              "      --disabled-bg-color: #DDD;\n",
              "  }\n",
              "\n",
              "  [theme=dark] .colab-df-quickchart {\n",
              "      --bg-color: #3B4455;\n",
              "      --fill-color: #D2E3FC;\n",
              "      --hover-bg-color: #434B5C;\n",
              "      --hover-fill-color: #FFFFFF;\n",
              "      --disabled-bg-color: #3B4455;\n",
              "      --disabled-fill-color: #666;\n",
              "  }\n",
              "\n",
              "  .colab-df-quickchart {\n",
              "    background-color: var(--bg-color);\n",
              "    border: none;\n",
              "    border-radius: 50%;\n",
              "    cursor: pointer;\n",
              "    display: none;\n",
              "    fill: var(--fill-color);\n",
              "    height: 32px;\n",
              "    padding: 0;\n",
              "    width: 32px;\n",
              "  }\n",
              "\n",
              "  .colab-df-quickchart:hover {\n",
              "    background-color: var(--hover-bg-color);\n",
              "    box-shadow: 0 1px 2px rgba(60, 64, 67, 0.3), 0 1px 3px 1px rgba(60, 64, 67, 0.15);\n",
              "    fill: var(--button-hover-fill-color);\n",
              "  }\n",
              "\n",
              "  .colab-df-quickchart-complete:disabled,\n",
              "  .colab-df-quickchart-complete:disabled:hover {\n",
              "    background-color: var(--disabled-bg-color);\n",
              "    fill: var(--disabled-fill-color);\n",
              "    box-shadow: none;\n",
              "  }\n",
              "\n",
              "  .colab-df-spinner {\n",
              "    border: 2px solid var(--fill-color);\n",
              "    border-color: transparent;\n",
              "    border-bottom-color: var(--fill-color);\n",
              "    animation:\n",
              "      spin 1s steps(1) infinite;\n",
              "  }\n",
              "\n",
              "  @keyframes spin {\n",
              "    0% {\n",
              "      border-color: transparent;\n",
              "      border-bottom-color: var(--fill-color);\n",
              "      border-left-color: var(--fill-color);\n",
              "    }\n",
              "    20% {\n",
              "      border-color: transparent;\n",
              "      border-left-color: var(--fill-color);\n",
              "      border-top-color: var(--fill-color);\n",
              "    }\n",
              "    30% {\n",
              "      border-color: transparent;\n",
              "      border-left-color: var(--fill-color);\n",
              "      border-top-color: var(--fill-color);\n",
              "      border-right-color: var(--fill-color);\n",
              "    }\n",
              "    40% {\n",
              "      border-color: transparent;\n",
              "      border-right-color: var(--fill-color);\n",
              "      border-top-color: var(--fill-color);\n",
              "    }\n",
              "    60% {\n",
              "      border-color: transparent;\n",
              "      border-right-color: var(--fill-color);\n",
              "    }\n",
              "    80% {\n",
              "      border-color: transparent;\n",
              "      border-right-color: var(--fill-color);\n",
              "      border-bottom-color: var(--fill-color);\n",
              "    }\n",
              "    90% {\n",
              "      border-color: transparent;\n",
              "      border-bottom-color: var(--fill-color);\n",
              "    }\n",
              "  }\n",
              "</style>\n",
              "\n",
              "      <script>\n",
              "        async function quickchart(key) {\n",
              "          const quickchartButtonEl =\n",
              "            document.querySelector('#' + key + ' button');\n",
              "          quickchartButtonEl.disabled = true;  // To prevent multiple clicks.\n",
              "          quickchartButtonEl.classList.add('colab-df-spinner');\n",
              "          try {\n",
              "            const charts = await google.colab.kernel.invokeFunction(\n",
              "                'suggestCharts', [key], {});\n",
              "          } catch (error) {\n",
              "            console.error('Error during call to suggestCharts:', error);\n",
              "          }\n",
              "          quickchartButtonEl.classList.remove('colab-df-spinner');\n",
              "          quickchartButtonEl.classList.add('colab-df-quickchart-complete');\n",
              "        }\n",
              "        (() => {\n",
              "          let quickchartButtonEl =\n",
              "            document.querySelector('#df-9cda431a-cb88-4e4d-bbd4-53c9a031d957 button');\n",
              "          quickchartButtonEl.style.display =\n",
              "            google.colab.kernel.accessAllowed ? 'block' : 'none';\n",
              "        })();\n",
              "      </script>\n",
              "    </div>\n",
              "    </div>\n",
              "  </div>\n"
            ],
            "application/vnd.google.colaboratory.intrinsic+json": {
              "type": "dataframe",
              "variable_name": "df"
            }
          },
          "metadata": {},
          "execution_count": 41
        }
      ],
      "source": [
        "import warnings\n",
        "warnings.filterwarnings(\"ignore\")\n",
        "\n",
        "#Basic dataset overview\n",
        "import pandas as pd\n",
        "\n",
        "# Load the dataset\n",
        "#df = pd.read_csv(r\"C:\\Users\\Asus\\Downloads\\ML Project\\ML_Project\\preprocessed_dataset.csv\")\n",
        "df = pd.read_csv('/content/preprocessed_dataset.csv')\n",
        "\n",
        "# Rename target column\n",
        "df.rename(columns={'No-show': 'NoShow'}, inplace=True)\n",
        "\n",
        "# View dimensions and rows\n",
        "print(f\"Rows: {df.shape[0]}, Columns: {df.shape[1]}\")\n",
        "df.head()"
      ]
    },
    {
      "cell_type": "markdown",
      "metadata": {
        "id": "oWwn7sb9wHcI"
      },
      "source": [
        "The dataset is already cleaned and transformed using a ColumnTransformer pipeline. Specifically, categorical variables were one-hot encoded and numerical features were scaled. The No-show target column has been renamed to NoShow for easier access. This step ensures that the dataset is in a machine-learning-ready format, with all features properly encoded and scaled."
      ]
    },
    {
      "cell_type": "code",
      "execution_count": 42,
      "metadata": {
        "colab": {
          "base_uri": "https://localhost:8080/"
        },
        "id": "AFLXwgHf2TVZ",
        "outputId": "3f0530e5-2b8d-4b9a-84a7-2720d5456645"
      },
      "outputs": [
        {
          "output_type": "stream",
          "name": "stdout",
          "text": [
            "<class 'pandas.core.frame.DataFrame'>\n",
            "RangeIndex: 110526 entries, 0 to 110525\n",
            "Columns: 149 entries, Gender to NoShow\n",
            "dtypes: float64(138), int64(11)\n",
            "memory usage: 125.6 MB\n"
          ]
        }
      ],
      "source": [
        "df.info()"
      ]
    },
    {
      "cell_type": "markdown",
      "metadata": {
        "id": "9lUq-K-Rwtkm"
      },
      "source": [
        "DataFrame has:\n",
        "*   110,526 rows (individual records or samples).\n",
        "*   149 columns (features), ranging from Gender to NoShow.\n",
        "*   Among these columns:\n",
        "  *   138 are of type float64 — likely continuous numerical features.\n",
        "  *   11 are of type int64 — probably categorical labels or counters.\n"
      ]
    },
    {
      "cell_type": "markdown",
      "metadata": {
        "id": "RS0PdhTvx6KF"
      },
      "source": [
        "# Logistic Regression\n",
        "\n",
        "In the initial modeling stage, we apply Logistic Regression as a baseline classifier to predict whether a patient will miss a medical appointment, as indicated by the binary target variable NoShow. Logistic Regression is selected for its simplicity, interpretability, and computational efficiency—making it ideal for establishing a benchmark. Observing our dataset, we found that a relatively small number of features carried significant predictive power, and that the dataset exhibits notable class imbalance, with the majority of patients showing up for their appointments. This imbalance may influence the model’s performance, potentially biasing predictions toward the majority class. We hypothesize that while Logistic Regression may capture some linear relationships between features and the target, its performance could be limited by this imbalance and by non-linear patterns that it cannot model effectively. Therefore, we expect Logistic Regression to provide a useful but **MODEST** baseline.\n",
        "\n",
        "## Default Model"
      ]
    },
    {
      "cell_type": "code",
      "execution_count": 43,
      "metadata": {
        "colab": {
          "base_uri": "https://localhost:8080/"
        },
        "id": "pgz35pWm7yrj",
        "outputId": "09e1ef01-0fc7-49de-bdb7-012b6be73399"
      },
      "outputs": [
        {
          "output_type": "stream",
          "name": "stdout",
          "text": [
            "Accuracy of logistic regression classifier on train set: 0.80\n",
            "Accuracy of logistic regression classifier on test set: 0.80\n",
            "\n",
            "Test set performance:\n",
            "              precision    recall  f1-score   support\n",
            "\n",
            "           0       0.80      0.99      0.89     17642\n",
            "           1       0.41      0.02      0.04      4464\n",
            "\n",
            "    accuracy                           0.80     22106\n",
            "   macro avg       0.60      0.51      0.46     22106\n",
            "weighted avg       0.72      0.80      0.72     22106\n",
            "\n"
          ]
        }
      ],
      "source": [
        "import numpy as np\n",
        "from sklearn.model_selection import train_test_split\n",
        "from sklearn.linear_model import LogisticRegression\n",
        "from sklearn.metrics import classification_report, confusion_matrix\n",
        "\n",
        "# Target and Features\n",
        "y = df['NoShow']\n",
        "X = df.drop(columns=['NoShow'])\n",
        "\n",
        "# Split into train/test\n",
        "X_train, X_test, y_train, y_test = train_test_split(X, y, test_size=0.2, random_state=42, stratify=y)\n",
        "\n",
        "model = LogisticRegression()\n",
        "model.fit(X_train, y_train)\n",
        "\n",
        "y_pred = model.predict(X_test)\n",
        "\n",
        "print('Accuracy of logistic regression classifier on train set: {:.2f}'.format(model.score(X_train, y_train)))\n",
        "print('Accuracy of logistic regression classifier on test set: {:.2f}'.format(model.score(X_test, y_test)))\n",
        "\n",
        "print(\"\\nTest set performance:\")\n",
        "print(classification_report(y_test, y_pred))"
      ]
    },
    {
      "cell_type": "markdown",
      "metadata": {
        "id": "DvRfPQwG16gl"
      },
      "source": [
        "* Implemented baseline Logistic Regression with default parameters (no tuning).\n",
        "* Though called \"regression,\" it’s a classification model that uses a sigmoid function to produce class probabilities.\n",
        "* Uses a default 0.5 threshold to assign class labels (0 = Show, 1 = NoShow).\n",
        "* Accuracy: 80% on both training and test sets.\n",
        "* Issue: Very poor performance on the minority class (NoShow):\n",
        "* Recall: 2%, F1-score: 0.04\n",
        "* Conclusion: Model fails to detect NoShow cases due to class imbalance — needs further improvement."
      ]
    },
    {
      "cell_type": "markdown",
      "metadata": {
        "id": "6O0LcxUo5l_Z"
      },
      "source": [
        "## Hyperparameter Tuning\n",
        "\n",
        "\n",
        "*   C: Inverse of regularization strength (float)\tLower values = stronger regularization (can prevent overfitting)\n",
        "  *   Vaules used: 0.001 , 0.01, 1, 10\n",
        "*   Penalty: Regularization type. 'l2': Default, good for most cases.\n",
        "'l1': For sparse models (requires solver like 'liblinear').\n",
        "  *   Vaules used: l1, l2\n",
        "*   Solver: Optimization algorithm ('liblinear', 'saga', etc.)\tUse 'liblinear' Works with both l1 and l2, good for small datasets.; 'lbfgs': Default for l2, works for larger datasets.\n",
        "  *   Vaules used: liblinear, lbfgs\n",
        "*   class_weight: Helps address imbalance in classes\n",
        "  *   Vaules used: None, balanced\n",
        "\n",
        "\n",
        "*   Custom Threshold (Not a built-in hyperparameter)\n",
        "  *   After training, manually adjusting the threshold used to classify based on predicted probabilities:\n",
        "  *   Vaules used: thresholds = [0.3, 0.4, 0.5, 0.6, 0.7]\n",
        "\n",
        "\n",
        "Each model is trained and evaluated using the same metrics as before. Results are stored in a list, converted into a DataFrame, and saved to a CSV file for further inspection."
      ]
    },
    {
      "cell_type": "code",
      "execution_count": null,
      "metadata": {
        "colab": {
          "base_uri": "https://localhost:8080/",
          "height": 426
        },
        "id": "NZPQ0ndGCULm",
        "outputId": "b5a2c9e7-9326-4794-aeb3-db096758de95"
      },
      "outputs": [
        {
          "name": "stdout",
          "output_type": "stream",
          "text": [
            "Total combinations tested: 120\n",
            "\n",
            "Top 10 best performing models:\n",
            "        C Penalty     Solver Class Weight  Threshold  Accuracy  Precision  \\\n",
            "0  10.000      l2  liblinear         None        0.6  0.798245   0.543478   \n",
            "1   1.000      l2      lbfgs         None        0.6  0.798245   0.547619   \n",
            "2   1.000      l1  liblinear         None        0.6  0.798245   0.547619   \n",
            "3  10.000      l1  liblinear         None        0.6  0.798245   0.543478   \n",
            "4  10.000      l2      lbfgs         None        0.6  0.798200   0.533333   \n",
            "5   1.000      l2  liblinear         None        0.6  0.798200   0.536585   \n",
            "6  10.000      l2  liblinear         None        0.7  0.798109   0.555556   \n",
            "7   0.010      l2      lbfgs         None        0.6  0.798109   1.000000   \n",
            "8   0.001      l2  liblinear     balanced        0.7  0.798109   1.000000   \n",
            "9   0.001      l2      lbfgs     balanced        0.7  0.798109   1.000000   \n",
            "\n",
            "     Recall  F1 Score  \n",
            "0  0.005600  0.011086  \n",
            "1  0.005152  0.010209  \n",
            "2  0.005152  0.010209  \n",
            "3  0.005600  0.011086  \n",
            "4  0.005376  0.010645  \n",
            "5  0.004928  0.009767  \n",
            "6  0.001120  0.002236  \n",
            "7  0.000224  0.000448  \n",
            "8  0.000224  0.000448  \n",
            "9  0.000224  0.000448  \n"
          ]
        }
      ],
      "source": [
        "import pandas as pd\n",
        "import numpy as np\n",
        "from sklearn.linear_model import LogisticRegression\n",
        "from sklearn.metrics import accuracy_score, precision_score, recall_score, f1_score\n",
        "from sklearn.model_selection import train_test_split\n",
        "import numpy as np\n",
        "\n",
        "# Hyperparameter options\n",
        "C_values = [0.001, 0.01, 1, 10]\n",
        "penalties = ['l1', 'l2']\n",
        "solvers = ['liblinear', 'lbfgs']\n",
        "class_weights = [None, 'balanced']\n",
        "thresholds = [0.3, 0.4, 0.5, 0.6, 0.7]\n",
        "\n",
        "valid_combinations = {\n",
        "    'l1': ['liblinear'],  # l1 only works with liblinear\n",
        "    'l2': ['liblinear', 'lbfgs']  # l2 works with both\n",
        "}\n",
        "\n",
        "results = []\n",
        "combination_number = 0\n",
        "\n",
        "for C in C_values:\n",
        "    for penalty in penalties:\n",
        "        for solver in valid_combinations[penalty]:\n",
        "            for cw in class_weights:\n",
        "                for threshold in thresholds:\n",
        "                    try:\n",
        "                        model = LogisticRegression(C=C, penalty=penalty, solver=solver,\n",
        "                                                  class_weight=cw, max_iter=1000,\n",
        "                                                  random_state=42)\n",
        "                        model.fit(X_train, y_train)\n",
        "                        y_probs = model.predict_proba(X_test)[:, 1]\n",
        "                        y_pred = (y_probs >= threshold).astype(int)\n",
        "\n",
        "                        # Calculate metrics\n",
        "                        accuracy = accuracy_score(y_test, y_pred)\n",
        "                        precision = precision_score(y_test, y_pred, zero_division=0)\n",
        "                        recall = recall_score(y_test, y_pred, zero_division=0)\n",
        "                        f1 = f1_score(y_test, y_pred, zero_division=0)\n",
        "\n",
        "                        results.append({\n",
        "                            \"C\": C,\n",
        "                            \"Penalty\": penalty,\n",
        "                            \"Solver\": solver,\n",
        "                            \"Class Weight\": str(cw),  # Convert None to string for better CSV output\n",
        "                            \"Threshold\": threshold,\n",
        "                            \"Accuracy\": accuracy,\n",
        "                            \"Precision\": precision,\n",
        "                            \"Recall\": recall,\n",
        "                            \"F1 Score\": f1\n",
        "                        })\n",
        "                        combination_number += 1\n",
        "                    except Exception as e:\n",
        "                        print(f\"Error with combination C={C}, penalty={penalty}, solver={solver}, \"\n",
        "                              f\"class_weight={cw}, threshold={threshold}: {e}\")\n",
        "                        continue\n",
        "\n",
        "# Convert to DataFrame\n",
        "results_df = pd.DataFrame(results)\n",
        "\n",
        "results_df = results_df.sort_values(by=\"Accuracy\", ascending=False).reset_index(drop=True)\n",
        "\n",
        "# Save to CSV\n",
        "results_df.to_csv('logistic_regression_results.csv', index=False)\n",
        "\n",
        "# Show total combinations tested and top results\n",
        "print(f\"Total combinations tested: {combination_number}\")\n",
        "print(\"\\nTop 10 best performing models:\")\n",
        "print(results_df.head(10))\n"
      ]
    },
    {
      "cell_type": "markdown",
      "source": [
        "The initial model evaluation without balancing techniques tested 120 parameter combinations, focusing on hyperparameters like regularization strength (C), penalty type, solver, class weight, and decision threshold. The top-performing models achieved an accuracy close to 0.798, but their recall scores were extremely low (around 0.005), indicating that while the models are good at predicting the majority class, they fail to correctly identify the minority class instances. Precision varied moderately, but overall, the models suffer from poor sensitivity to the positive class, highlighting the classic imbalance problem where high accuracy is misleading due to the dominant negative class."
      ],
      "metadata": {
        "id": "crbuIUybkyUN"
      }
    },
    {
      "cell_type": "markdown",
      "metadata": {
        "id": "FEOz2lly5l6k"
      },
      "source": [
        "Balancing the dataset : Apply SMOTE"
      ]
    },
    {
      "cell_type": "code",
      "execution_count": 44,
      "metadata": {
        "id": "RzUQdUaCvD56",
        "outputId": "791cc590-e86a-47cc-f167-963a43a5c282",
        "colab": {
          "base_uri": "https://localhost:8080/"
        }
      },
      "outputs": [
        {
          "output_type": "stream",
          "name": "stdout",
          "text": [
            "Class distribution before SMOTE:\n",
            "NoShow\n",
            "0    0.798066\n",
            "1    0.201934\n",
            "Name: proportion, dtype: float64\n"
          ]
        }
      ],
      "source": [
        "from sklearn.linear_model import LogisticRegression\n",
        "from sklearn.metrics import accuracy_score, precision_score, recall_score, f1_score\n",
        "from sklearn.model_selection import train_test_split\n",
        "from imblearn.over_sampling import SMOTE\n",
        "\n",
        "# Check class distribution before SMOTE\n",
        "print(\"Class distribution before SMOTE:\")\n",
        "print(pd.Series(y_train).value_counts(normalize=True))"
      ]
    },
    {
      "cell_type": "code",
      "execution_count": 45,
      "metadata": {
        "id": "sV81EYk7vD56",
        "outputId": "133332eb-a511-4dd7-f498-d4d9525b2ffc",
        "colab": {
          "base_uri": "https://localhost:8080/"
        }
      },
      "outputs": [
        {
          "output_type": "stream",
          "name": "stdout",
          "text": [
            "Class distribution after SMOTE:\n",
            "NoShow\n",
            "1    0.5\n",
            "0    0.5\n",
            "Name: proportion, dtype: float64\n"
          ]
        }
      ],
      "source": [
        "# Apply SMOTE to the training data only\n",
        "smote = SMOTE(random_state=42)\n",
        "X_train_smote, y_train_smote = smote.fit_resample(X_train, y_train)\n",
        "\n",
        "# Check class distribution after SMOTE\n",
        "print(\"Class distribution after SMOTE:\")\n",
        "print(pd.Series(y_train_smote).value_counts(normalize=True))"
      ]
    },
    {
      "cell_type": "code",
      "execution_count": null,
      "metadata": {
        "id": "JnR7tCFljrHm",
        "outputId": "69339962-45cf-493d-8725-49692bac9c80"
      },
      "outputs": [
        {
          "name": "stdout",
          "output_type": "stream",
          "text": [
            "Total combinations tested: 120\n",
            "\n",
            "Top 10 best performing models:\n",
            "       C Penalty     Solver Class Weight  Threshold  Accuracy  Precision  \\\n",
            "0  0.001      l1  liblinear         None        0.7  0.798064   0.000000   \n",
            "1  0.001      l1  liblinear     balanced        0.7  0.798064   0.000000   \n",
            "2  0.001      l2      lbfgs     balanced        0.7  0.797159   0.222222   \n",
            "3  0.001      l2  liblinear     balanced        0.7  0.797159   0.222222   \n",
            "4  0.001      l2      lbfgs         None        0.7  0.797159   0.222222   \n",
            "5  0.001      l2  liblinear         None        0.7  0.797159   0.222222   \n",
            "6  0.001      l1  liblinear         None        0.6  0.796164   0.255814   \n",
            "7  0.001      l1  liblinear     balanced        0.6  0.796164   0.255814   \n",
            "8  0.010      l1  liblinear     balanced        0.7  0.780060   0.329331   \n",
            "9  0.010      l1  liblinear         None        0.7  0.780060   0.329331   \n",
            "\n",
            "     Recall  F1 Score  \n",
            "0  0.000000  0.000000  \n",
            "1  0.000000  0.000000  \n",
            "2  0.001792  0.003556  \n",
            "3  0.001792  0.003556  \n",
            "4  0.001792  0.003556  \n",
            "5  0.001792  0.003556  \n",
            "6  0.004928  0.009670  \n",
            "7  0.004928  0.009670  \n",
            "8  0.086022  0.136412  \n",
            "9  0.086022  0.136412  \n"
          ]
        }
      ],
      "source": [
        "C_values = [0.001, 0.01, 1, 10]\n",
        "penalties = ['l1', 'l2']\n",
        "solvers = ['liblinear', 'lbfgs']\n",
        "class_weights = [None, 'balanced']\n",
        "thresholds = [0.3, 0.4, 0.5, 0.6, 0.7]\n",
        "\n",
        "# Define valid solver/penalty combinations\n",
        "valid_combinations = {\n",
        "    'l1': ['liblinear'],  # l1 only works with liblinear\n",
        "    'l2': ['liblinear', 'lbfgs']  # l2 works with both\n",
        "}\n",
        "\n",
        "results = []\n",
        "combination_number = 0\n",
        "\n",
        "for C in C_values:\n",
        "    for penalty in penalties:\n",
        "        for solver in valid_combinations[penalty]:\n",
        "            for cw in class_weights:\n",
        "                for threshold in thresholds:\n",
        "                    try:\n",
        "                        model = LogisticRegression(C=C, penalty=penalty, solver=solver,\n",
        "                                                  class_weight=cw, max_iter=1000,\n",
        "                                                  random_state=42)\n",
        "                        # Fit model on SMOTE-resampled data\n",
        "                        model.fit(X_train_smote, y_train_smote)\n",
        "\n",
        "                        # Evaluate on the original test set\n",
        "                        y_probs = model.predict_proba(X_test)[:, 1]\n",
        "                        y_pred = (y_probs >= threshold).astype(int)\n",
        "\n",
        "                        # Calculate metrics\n",
        "                        accuracy = accuracy_score(y_test, y_pred)\n",
        "                        precision = precision_score(y_test, y_pred, zero_division=0)\n",
        "                        recall = recall_score(y_test, y_pred, zero_division=0)\n",
        "                        f1 = f1_score(y_test, y_pred, zero_division=0)\n",
        "\n",
        "                        results.append({\n",
        "                            \"C\": C,\n",
        "                            \"Penalty\": penalty,\n",
        "                            \"Solver\": solver,\n",
        "                            \"Class Weight\": str(cw),  # Convert None to string for better CSV output\n",
        "                            \"Threshold\": threshold,\n",
        "                            \"Accuracy\": accuracy,\n",
        "                            \"Precision\": precision,\n",
        "                            \"Recall\": recall,\n",
        "                            \"F1 Score\": f1\n",
        "                        })\n",
        "                        combination_number += 1\n",
        "                    except Exception as e:\n",
        "                        print(f\"Error with combination C={C}, penalty={penalty}, solver={solver}, \"\n",
        "                              f\"class_weight={cw}, threshold={threshold}: {e}\")\n",
        "                        continue\n",
        "\n",
        "# Results as DataFrame\n",
        "results_df = pd.DataFrame(results)\n",
        "\n",
        "# Sort by accuracy (descending) and reset index to start from 1\n",
        "results_df = results_df.sort_values(by=\"Accuracy\", ascending=False).reset_index(drop=True)\n",
        "\n",
        "# Save results to CSV\n",
        "results_df.to_csv('logistic_regression_results.csv', index=False)\n",
        "\n",
        "# Show total combinations tested and top results\n",
        "print(f\"Total combinations tested: {combination_number}\")\n",
        "print(\"\\nTop 10 best performing models:\")\n",
        "print(results_df.head(10))"
      ]
    },
    {
      "cell_type": "markdown",
      "source": [
        "After applying SMOTE to balance the classes equally, the models were re-evaluated with the same hyperparameter search. The class distribution after SMOTE is perfectly balanced (50-50), but the overall accuracy slightly decreased compared to Section 1, reflecting the increased challenge of correctly classifying a more balanced dataset. Notably, precision for the best models dropped to near zero in some cases, but recall started to improve from virtually zero towards 1 as the threshold and parameters changed. The additional data shows a clear trade-off between accuracy and recall: as recall increases, the accuracy decreases, indicating the models become more sensitive to detecting positive cases but at the cost of more false positives. This behavior is typical in imbalanced classification where improving minority class detection often reduces overall accuracy. These results highlight the importance of carefully balancing precision, recall, and accuracy based on the problem goals."
      ],
      "metadata": {
        "id": "ecC1LluOk90J"
      }
    },
    {
      "cell_type": "markdown",
      "source": [
        "\n",
        "\n",
        "---\n",
        "\n"
      ],
      "metadata": {
        "id": "kPMLLmPymzLw"
      }
    },
    {
      "cell_type": "markdown",
      "source": [
        "# Visualizing the Optimal Logistic Regression Model"
      ],
      "metadata": {
        "id": "Ayt5XXLVmdc2"
      }
    },
    {
      "cell_type": "markdown",
      "source": [
        "### Confusion Matrix (with Heatmap)\n",
        "\n",
        "Without Smote"
      ],
      "metadata": {
        "id": "KfKefQwFmv_r"
      }
    },
    {
      "cell_type": "code",
      "source": [
        "import numpy as np\n",
        "import matplotlib.pyplot as plt\n",
        "import seaborn as sns\n",
        "from sklearn.linear_model import LogisticRegression\n",
        "from sklearn.metrics import confusion_matrix, roc_curve, auc, precision_recall_curve\n",
        "\n",
        "model = LogisticRegression(\n",
        "    C=10,\n",
        "    penalty='l2',\n",
        "    solver='liblinear',\n",
        "    class_weight=None,\n",
        "    max_iter=1000,\n",
        "    random_state=42\n",
        ")\n",
        "\n",
        "model.fit(X_train, y_train)\n",
        "\n",
        "y_proba = model.predict_proba(X_test)[:, 1]\n",
        "\n",
        "threshold = 0.6\n",
        "y_pred = (y_proba >= threshold).astype(int)\n",
        "\n",
        "cm = confusion_matrix(y_test, y_pred)\n",
        "sns.heatmap(cm, annot=True, fmt=\"d\", cmap=\"Blues\", cbar=False)\n",
        "plt.xlabel(\"Predicted Label\")\n",
        "plt.ylabel(\"Actual Label\")\n",
        "plt.title(\"Confusion Matrix (Threshold=0.6)\")\n",
        "plt.show()\n"
      ],
      "metadata": {
        "colab": {
          "base_uri": "https://localhost:8080/",
          "height": 472
        },
        "id": "7V1QKMSwm1-K",
        "outputId": "448e1be7-6b27-4f9e-f4b7-f5d9fb7622f0"
      },
      "execution_count": 47,
      "outputs": [
        {
          "output_type": "display_data",
          "data": {
            "text/plain": [
              "<Figure size 640x480 with 1 Axes>"
            ],
            "image/png": "[encoded data removed]"
          },
          "metadata": {}
        }
      ]
    },
    {
      "cell_type": "markdown",
      "source": [
        "With Smote"
      ],
      "metadata": {
        "id": "88U0c-xDN-Ah"
      }
    },
    {
      "cell_type": "code",
      "source": [
        "import numpy as np\n",
        "import matplotlib.pyplot as plt\n",
        "import seaborn as sns\n",
        "from sklearn.linear_model import LogisticRegression\n",
        "from sklearn.metrics import confusion_matrix, roc_curve, auc, precision_recall_curve\n",
        "\n",
        "model = LogisticRegression(\n",
        "    C=0.001,\n",
        "    penalty='l1',\n",
        "    solver='liblinear',\n",
        "    class_weight=None,\n",
        "    max_iter=1000,\n",
        "    random_state=42\n",
        ")\n",
        "model.fit(X_train_smote, y_train_smote)\n",
        "\n",
        "y_proba = model.predict_proba(X_test)[:, 1]\n",
        "\n",
        "threshold = 0.7\n",
        "y_pred = (y_proba >= threshold).astype(int)\n",
        "\n",
        "cm = confusion_matrix(y_test, y_pred)\n",
        "sns.heatmap(cm, annot=True, fmt=\"d\", cmap=\"Blues\", cbar=False)\n",
        "plt.xlabel(\"Predicted Label\")\n",
        "plt.ylabel(\"Actual Label\")\n",
        "plt.title(\"Confusion Matrix (Threshold=0.6)\")\n",
        "plt.show()\n"
      ],
      "metadata": {
        "id": "5PZ3UZ9GLFeC",
        "colab": {
          "base_uri": "https://localhost:8080/",
          "height": 472
        },
        "outputId": "c3b6bfc3-c87a-4c6c-8c53-2ce2255caada"
      },
      "execution_count": 49,
      "outputs": [
        {
          "output_type": "display_data",
          "data": {
            "text/plain": [
              "<Figure size 640x480 with 1 Axes>"
            ],
            "image/png": "[encoded data removed]"
          },
          "metadata": {}
        }
      ]
    },
    {
      "cell_type": "markdown",
      "source": [
        "### First Confusion Matrix (Without SMOTE - Logistic Regression)\n",
        "* Threshold: 0.6\n",
        "* True Negatives (TN): 17,621\n",
        "* False Positives (FP): 21\n",
        "* False Negatives (FN): 4,439\n",
        "* True Positives (TP): 25\n",
        "* Observation:\n",
        " * Extremely high number of false negatives (FN).\n",
        " * Very few positive instances are correctly predicted.\n",
        " * Slight imbalance toward classifying everything as 0 (negative).\n",
        "\n",
        "\n",
        "### Second Image Confusion Matrix (With SMOTE - Logistic Regression)\n",
        "* Threshold: 0.7\n",
        "* True Negatives (TN): 17,642\n",
        "* False Positives (FP): 0\n",
        "* False Negatives (FN): 4,464\n",
        "* True Positives (TP): 0\n",
        "* Observation:\n",
        " * Model predicted zero positive cases — TP is 0.\n",
        " * All positive instances are misclassified as negative.\n",
        " * Worse performance for detecting class 1 (positive), despite SMOTE.\n",
        "\n",
        "\n",
        "The confusion matrices show how applying SMOTE influenced the performance of logistic regression with a decision threshold of 0.6. Without SMOTE, the model managed to identify 25 true positives but still suffered from a large number of false negatives, indicating poor recall. With SMOTE, the model predicted all samples as negative (class 0), failing entirely to identify any true positives. This suggests that SMOTE did not improve the model's performance in this case, possibly due to overfitting on synthetic samples or poor class separability at the chosen threshold. Additionally, using a high threshold (0.7) on an imbalanced dataset likely exacerbated the issue by being too conservative in predicting the positive class.\n"
      ],
      "metadata": {
        "id": "Bu2j3LoSOneE"
      }
    },
    {
      "cell_type": "markdown",
      "source": [
        "### Precision-Recall Curve"
      ],
      "metadata": {
        "id": "a6a5vuSqm9En"
      }
    },
    {
      "cell_type": "code",
      "source": [
        "precision, recall, _ = precision_recall_curve(y_test, y_proba)\n",
        "\n",
        "plt.figure(figsize=(6,5))\n",
        "plt.plot(recall, precision, label='Precision-Recall curve')\n",
        "plt.xlabel('Recall')\n",
        "plt.ylabel('Precision')\n",
        "plt.title('Precision-Recall Curve')\n",
        "plt.legend()\n",
        "plt.show()"
      ],
      "metadata": {
        "id": "rWTrkSXWnAFn",
        "colab": {
          "base_uri": "https://localhost:8080/",
          "height": 487
        },
        "outputId": "441139cb-8934-4d83-c693-6ef801584c9f"
      },
      "execution_count": null,
      "outputs": [
        {
          "output_type": "display_data",
          "data": {
            "text/plain": [
              "<Figure size 600x500 with 1 Axes>"
            ],
            "image/png": "[encoded data removed]"
          },
          "metadata": {}
        }
      ]
    },
    {
      "cell_type": "markdown",
      "source": [
        "This precision-recall curve indicates suboptimal model performance for the no-show prediction task. The curve shows a rapid drop in precision as recall increases, stabilizing around 0.35-0.40 precision for most recall values. This pattern is typical of imbalanced classification problems where the positive class (no-shows) is rare. The steep initial drop suggests that while the model can identify some no-shows with high precision, it struggles to maintain precision when attempting to capture more of the positive cases. The area under the curve appears relatively low, confirming limited predictive power."
      ],
      "metadata": {
        "id": "ArNAC9nEQXW-"
      }
    },
    {
      "cell_type": "markdown",
      "source": [
        "### Feature Importance"
      ],
      "metadata": {
        "id": "yiFd5jKWnBy4"
      }
    },
    {
      "cell_type": "code",
      "source": [
        "feature_importance = model.coef_[0]\n",
        "feature_names = X_train.columns  # Assuming X_train is a DataFrame\n",
        "\n",
        "# Extract feature importances\n",
        "coefficients = model.coef_[0]\n",
        "features = X_train.columns\n",
        "\n",
        "# Create DataFrame\n",
        "feat_df = pd.DataFrame({'Feature': features, 'Importance': np.abs(coefficients)})\n",
        "\n",
        "# Extract original feature name (before underscore for one-hot columns)\n",
        "feat_df['OriginalFeature'] = feat_df['Feature'].apply(lambda x: x.split('_')[0])\n",
        "\n",
        "# Group by original feature\n",
        "grouped_feat = feat_df.groupby('OriginalFeature')['Importance'].sum().reset_index()\n",
        "grouped_feat = grouped_feat.sort_values(by='Importance', ascending=False)\n",
        "\n",
        "# Plot\n",
        "plt.figure(figsize=(10, 6))\n",
        "sns.barplot(x='Importance', y='OriginalFeature', data=feat_df)\n",
        "plt.title(\"Aggregated Feature Importances\")\n",
        "plt.xlabel(\"Importance Score\")\n",
        "plt.ylabel(\"OriginalFeature\")\n",
        "plt.tight_layout()\n",
        "plt.show()"
      ],
      "metadata": {
        "id": "De4Exn_3nGp2",
        "colab": {
          "base_uri": "https://localhost:8080/",
          "height": 392
        },
        "outputId": "af76afb5-1800-4bf4-9e54-3556de3de410"
      },
      "execution_count": null,
      "outputs": [
        {
          "output_type": "display_data",
          "data": {
            "text/plain": [
              "<Figure size 1000x600 with 1 Axes>"
            ],
            "image/png": "[encoded data removed]"
          },
          "metadata": {}
        }
      ]
    },
    {
      "cell_type": "markdown",
      "source": [
        "The feature importance chart reveals that \"DaysBetween\" is overwhelmingly the most important predictor of no-shows, with an importance score exceeding 1.2. The second most important feature is patient \"Age\" (score 0.9), followed by \"ScheduledDay\" (0.8) and \"IsWeekendAppointment\" (0.6). Healthcare-related features like \"SMS\" (reminder messages), \"Alcoholism,\" and \"Scholarship\" have moderate importance, while \"Gender,\" \"Hipertension,\" and \"Handcap\" contribute minimally. This suggests that appointment timing and patient demographics are more predictive than medical conditions for this specific no-show prediction problem."
      ],
      "metadata": {
        "id": "yY9Ly3W2QnFh"
      }
    },
    {
      "cell_type": "markdown",
      "source": [
        "\n",
        "\n",
        "---\n",
        "\n",
        "# Logistic Regression Model Evaluation Summary\n",
        "\n",
        "### 1. Initial Model Performance (Before Balancing)\n",
        "An extensive grid search was performed to evaluate 120 combinations of Logistic Regression hyperparameters, including regularization strength (C), penalty type, solver, class weight, and decision thresholds. The dataset was highly imbalanced, with the majority of instances belonging to the negative class (patients who attended appointments).\n",
        "\n",
        "* Best Accuracy Achieved: ~0.798\n",
        "* Recall: Extremely low (≈ 0.005)\n",
        "* Precision: Varied moderately\n",
        "* Key Issues:\n",
        " * Despite high accuracy, the model failed to correctly identify no-show cases.\n",
        " * The near-zero recall highlighted that the model was almost completely blind to the minority class.\n",
        " * This scenario reflects the classic pitfall in imbalanced classification: high overall accuracy can be misleading when driven by the dominant class.\n",
        "\n",
        "### 2. Performance After Applying SMOTE\n",
        "To mitigate class imbalance, SMOTE (Synthetic Minority Oversampling Technique) was applied, resulting in a perfectly balanced training dataset (50% show vs. 50% no-show). The same hyperparameter tuning process was repeated post-balancing.\n",
        "\n",
        "* Accuracy: Slightly decreased compared to the imbalanced setup\n",
        "* Precision: Dropped significantly, in some cases approaching zero\n",
        "* Recall: Gradually increased from near zero to higher values, depending on threshold tuning\n",
        "* Observation:\n",
        " * A clear trade-off emerged: as recall improved (the model detected more no-show cases), accuracy declined due to an increase in false positives.\n",
        " * This behavior is typical in imbalanced problems when the focus shifts toward improving sensitivity at the cost of precision.\n",
        "\n",
        "Logistic Regression performed poorly for the no-show prediction task, regardless of balancing techniques. While initial models achieved deceptively high accuracy, they failed to detect the minority class. Even after applying SMOTE, improvements in recall came at the expense of precision and overall accuracy, with some configurations failing to identify any no-shows at all.\n",
        "\n",
        "These findings reinforce the need for:\n",
        "* Exploring more advanced models (e.g., decision trees, ensemble methods)\n",
        "* Tuning decision thresholds based on precision-recall trade-offs\n",
        "* Applying additional techniques like cost-sensitive learning or hybrid sampling\n",
        "\n",
        "Logistic Regression, in its current form, is not suitable as a standalone model for this task due to its inability to reliably capture the minority class behavior.\n"
      ],
      "metadata": {
        "id": "UODM4uJyR0er"
      }
    }
  ],
  "metadata": {
    "accelerator": "GPU",
    "colab": {
      "gpuType": "T4",
      "provenance": []
    },
    "kernelspec": {
      "display_name": "Python [conda env:base] *",
      "language": "python",
      "name": "conda-base-py"
    },
    "language_info": {
      "codemirror_mode": {
        "name": "ipython",
        "version": 3
      },
      "file_extension": ".py",
      "mimetype": "text/x-python",
      "name": "python",
      "nbconvert_exporter": "python",
      "pygments_lexer": "ipython3",
      "version": "3.12.7"
    }
  },
  "nbformat": 4,
  "nbformat_minor": 0
}