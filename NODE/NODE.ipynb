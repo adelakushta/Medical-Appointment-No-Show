{
  "nbformat": 4,
  "nbformat_minor": 0,
  "metadata": {
    "colab": {
      "provenance": []
    },
    "kernelspec": {
      "name": "python3",
      "display_name": "Python 3"
    },
    "language_info": {
      "name": "python"
    }
  },
  "cells": [
    {
      "cell_type": "markdown",
      "source": [
        "# Neural Oblivious Decision Ensembles\n",
        "\n",
        "NODE is a deep learning architecture designed specifically for tabular data, introduced by Yandex researchers in 2019. It blends the strengths of decision trees with neural networks by using differentiable oblivious decision trees trained end-to-end via gradient descent.\n",
        "\n",
        "Core Concept\n",
        "Unlike classical decision trees that use hard binary splits, NODE employs soft splits implemented with sigmoid functions, making the decision process differentiable. This allows NODE to be trained with standard backpropagation.\n",
        "\n",
        "Oblivious Decision Trees\n",
        "NODE uses oblivious trees, where each level in the tree applies the same feature-based split. This constraint simplifies model structure and enables efficient vectorized implementations.\n",
        "\n",
        "Ensemble Structure\n",
        "The model consists of an ensemble of such oblivious trees, each producing outputs that are aggregated to form the final prediction. This ensemble approach improves model robustness and generalization."
      ],
      "metadata": {
        "id": "AVt5WDwDLDnM"
      }
    },
    {
      "cell_type": "markdown",
      "source": [
        "\n",
        "\n",
        "---\n",
        "\n"
      ],
      "metadata": {
        "id": "Y1RvzL8nLOc-"
      }
    },
    {
      "cell_type": "markdown",
      "source": [
        "# Environment Setup and Library Imports"
      ],
      "metadata": {
        "id": "ZUbWuq3DLPp5"
      }
    },
    {
      "cell_type": "code",
      "source": [
        "!pip install -q torch torchvision torchaudio tensorflow pandas numpy scikit-learn matplotlib"
      ],
      "metadata": {
        "id": "LH00_Rw2iAEO"
      },
      "execution_count": 14,
      "outputs": []
    },
    {
      "cell_type": "code",
      "source": [
        "!git clone https://github.com/Qwicen/node.git\n",
        "\n",
        "import sys\n",
        "sys.path.append('/content/node')"
      ],
      "metadata": {
        "id": "gc7d-4zKnvDt"
      },
      "execution_count": 26,
      "outputs": []
    },
    {
      "cell_type": "code",
      "source": [
        "from google.colab import files\n",
        "uploaded = files.upload()"
      ],
      "metadata": {
        "colab": {
          "base_uri": "https://localhost:8080/",
          "height": 73
        },
        "id": "ViIQ4bKgltj2",
        "outputId": "d19c377d-b3e3-48bf-e881-9ffcfb847fa6"
      },
      "execution_count": 3,
      "outputs": [
        {
          "output_type": "display_data",
          "data": {
            "text/plain": [
              "<IPython.core.display.HTML object>"
            ],
            "text/html": [
              "\n",
              "     <input type=\"file\" id=\"files-377f7191-0bed-48e4-95fc-e4b053e4b785\" name=\"files[]\" multiple disabled\n",
              "        style=\"border:none\" />\n",
              "     <output id=\"result-377f7191-0bed-48e4-95fc-e4b053e4b785\">\n",
              "      Upload widget is only available when the cell has been executed in the\n",
              "      current browser session. Please rerun this cell to enable.\n",
              "      </output>\n",
              "      <script>// Copyright 2017 Google LLC\n",
              "//\n",
              "// Licensed under the Apache License, Version 2.0 (the \"License\");\n",
              "// you may not use this file except in compliance with the License.\n",
              "// You may obtain a copy of the License at\n",
              "//\n",
              "//      http://www.apache.org/licenses/LICENSE-2.0\n",
              "//\n",
              "// Unless required by applicable law or agreed to in writing, software\n",
              "// distributed under the License is distributed on an \"AS IS\" BASIS,\n",
              "// WITHOUT WARRANTIES OR CONDITIONS OF ANY KIND, either express or implied.\n",
              "// See the License for the specific language governing permissions and\n",
              "// limitations under the License.\n",
              "\n",
              "/**\n",
              " * @fileoverview Helpers for google.colab Python module.\n",
              " */\n",
              "(function(scope) {\n",
              "function span(text, styleAttributes = {}) {\n",
              "  const element = document.createElement('span');\n",
              "  element.textContent = text;\n",
              "  for (const key of Object.keys(styleAttributes)) {\n",
              "    element.style[key] = styleAttributes[key];\n",
              "  }\n",
              "  return element;\n",
              "}\n",
              "\n",
              "// Max number of bytes which will be uploaded at a time.\n",
              "const MAX_PAYLOAD_SIZE = 100 * 1024;\n",
              "\n",
              "function _uploadFiles(inputId, outputId) {\n",
              "  const steps = uploadFilesStep(inputId, outputId);\n",
              "  const outputElement = document.getElementById(outputId);\n",
              "  // Cache steps on the outputElement to make it available for the next call\n",
              "  // to uploadFilesContinue from Python.\n",
              "  outputElement.steps = steps;\n",
              "\n",
              "  return _uploadFilesContinue(outputId);\n",
              "}\n",
              "\n",
              "// This is roughly an async generator (not supported in the browser yet),\n",
              "// where there are multiple asynchronous steps and the Python side is going\n",
              "// to poll for completion of each step.\n",
              "// This uses a Promise to block the python side on completion of each step,\n",
              "// then passes the result of the previous step as the input to the next step.\n",
              "function _uploadFilesContinue(outputId) {\n",
              "  const outputElement = document.getElementById(outputId);\n",
              "  const steps = outputElement.steps;\n",
              "\n",
              "  const next = steps.next(outputElement.lastPromiseValue);\n",
              "  return Promise.resolve(next.value.promise).then((value) => {\n",
              "    // Cache the last promise value to make it available to the next\n",
              "    // step of the generator.\n",
              "    outputElement.lastPromiseValue = value;\n",
              "    return next.value.response;\n",
              "  });\n",
              "}\n",
              "\n",
              "/**\n",
              " * Generator function which is called between each async step of the upload\n",
              " * process.\n",
              " * @param {string} inputId Element ID of the input file picker element.\n",
              " * @param {string} outputId Element ID of the output display.\n",
              " * @return {!Iterable<!Object>} Iterable of next steps.\n",
              " */\n",
              "function* uploadFilesStep(inputId, outputId) {\n",
              "  const inputElement = document.getElementById(inputId);\n",
              "  inputElement.disabled = false;\n",
              "\n",
              "  const outputElement = document.getElementById(outputId);\n",
              "  outputElement.innerHTML = '';\n",
              "\n",
              "  const pickedPromise = new Promise((resolve) => {\n",
              "    inputElement.addEventListener('change', (e) => {\n",
              "      resolve(e.target.files);\n",
              "    });\n",
              "  });\n",
              "\n",
              "  const cancel = document.createElement('button');\n",
              "  inputElement.parentElement.appendChild(cancel);\n",
              "  cancel.textContent = 'Cancel upload';\n",
              "  const cancelPromise = new Promise((resolve) => {\n",
              "    cancel.onclick = () => {\n",
              "      resolve(null);\n",
              "    };\n",
              "  });\n",
              "\n",
              "  // Wait for the user to pick the files.\n",
              "  const files = yield {\n",
              "    promise: Promise.race([pickedPromise, cancelPromise]),\n",
              "    response: {\n",
              "      action: 'starting',\n",
              "    }\n",
              "  };\n",
              "\n",
              "  cancel.remove();\n",
              "\n",
              "  // Disable the input element since further picks are not allowed.\n",
              "  inputElement.disabled = true;\n",
              "\n",
              "  if (!files) {\n",
              "    return {\n",
              "      response: {\n",
              "        action: 'complete',\n",
              "      }\n",
              "    };\n",
              "  }\n",
              "\n",
              "  for (const file of files) {\n",
              "    const li = document.createElement('li');\n",
              "    li.append(span(file.name, {fontWeight: 'bold'}));\n",
              "    li.append(span(\n",
              "        `(${file.type || 'n/a'}) - ${file.size} bytes, ` +\n",
              "        `last modified: ${\n",
              "            file.lastModifiedDate ? file.lastModifiedDate.toLocaleDateString() :\n",
              "                                    'n/a'} - `));\n",
              "    const percent = span('0% done');\n",
              "    li.appendChild(percent);\n",
              "\n",
              "    outputElement.appendChild(li);\n",
              "\n",
              "    const fileDataPromise = new Promise((resolve) => {\n",
              "      const reader = new FileReader();\n",
              "      reader.onload = (e) => {\n",
              "        resolve(e.target.result);\n",
              "      };\n",
              "      reader.readAsArrayBuffer(file);\n",
              "    });\n",
              "    // Wait for the data to be ready.\n",
              "    let fileData = yield {\n",
              "      promise: fileDataPromise,\n",
              "      response: {\n",
              "        action: 'continue',\n",
              "      }\n",
              "    };\n",
              "\n",
              "    // Use a chunked sending to avoid message size limits. See b/62115660.\n",
              "    let position = 0;\n",
              "    do {\n",
              "      const length = Math.min(fileData.byteLength - position, MAX_PAYLOAD_SIZE);\n",
              "      const chunk = new Uint8Array(fileData, position, length);\n",
              "      position += length;\n",
              "\n",
              "      const base64 = btoa(String.fromCharCode.apply(null, chunk));\n",
              "      yield {\n",
              "        response: {\n",
              "          action: 'append',\n",
              "          file: file.name,\n",
              "          data: base64,\n",
              "        },\n",
              "      };\n",
              "\n",
              "      let percentDone = fileData.byteLength === 0 ?\n",
              "          100 :\n",
              "          Math.round((position / fileData.byteLength) * 100);\n",
              "      percent.textContent = `${percentDone}% done`;\n",
              "\n",
              "    } while (position < fileData.byteLength);\n",
              "  }\n",
              "\n",
              "  // All done.\n",
              "  yield {\n",
              "    response: {\n",
              "      action: 'complete',\n",
              "    }\n",
              "  };\n",
              "}\n",
              "\n",
              "scope.google = scope.google || {};\n",
              "scope.google.colab = scope.google.colab || {};\n",
              "scope.google.colab._files = {\n",
              "  _uploadFiles,\n",
              "  _uploadFilesContinue,\n",
              "};\n",
              "})(self);\n",
              "</script> "
            ]
          },
          "metadata": {}
        },
        {
          "output_type": "stream",
          "name": "stdout",
          "text": [
            "Saving preprocessed_dataset.csv to preprocessed_dataset (1).csv\n"
          ]
        }
      ]
    },
    {
      "cell_type": "code",
      "source": [
        "!touch /content/node/lib/__init__.py"
      ],
      "metadata": {
        "id": "2OXbH1yLwI8m"
      },
      "execution_count": 19,
      "outputs": []
    },
    {
      "cell_type": "code",
      "source": [
        "!find . -name \"arch.py\""
      ],
      "metadata": {
        "colab": {
          "base_uri": "https://localhost:8080/"
        },
        "id": "H-kyBlT3wRfb",
        "outputId": "ff53f93b-cb15-47c0-e999-cdf73e532bc1"
      },
      "execution_count": 21,
      "outputs": [
        {
          "output_type": "stream",
          "name": "stdout",
          "text": [
            "./node/lib/arch.py\n"
          ]
        }
      ]
    },
    {
      "cell_type": "code",
      "source": [
        "!pip install category_encoders"
      ],
      "metadata": {
        "colab": {
          "base_uri": "https://localhost:8080/"
        },
        "id": "ug0OtgmQwjv_",
        "outputId": "490f3428-2e92-4627-efb7-9e8f69b779f0"
      },
      "execution_count": 22,
      "outputs": [
        {
          "output_type": "stream",
          "name": "stdout",
          "text": [
            "Collecting category_encoders\n",
            "  Downloading category_encoders-2.8.1-py3-none-any.whl.metadata (7.9 kB)\n",
            "Requirement already satisfied: numpy>=1.14.0 in /usr/local/lib/python3.11/dist-packages (from category_encoders) (2.0.2)\n",
            "Requirement already satisfied: pandas>=1.0.5 in /usr/local/lib/python3.11/dist-packages (from category_encoders) (2.2.2)\n",
            "Requirement already satisfied: patsy>=0.5.1 in /usr/local/lib/python3.11/dist-packages (from category_encoders) (1.0.1)\n",
            "Requirement already satisfied: scikit-learn>=1.6.0 in /usr/local/lib/python3.11/dist-packages (from category_encoders) (1.6.1)\n",
            "Requirement already satisfied: scipy>=1.0.0 in /usr/local/lib/python3.11/dist-packages (from category_encoders) (1.15.3)\n",
            "Requirement already satisfied: statsmodels>=0.9.0 in /usr/local/lib/python3.11/dist-packages (from category_encoders) (0.14.4)\n",
            "Requirement already satisfied: python-dateutil>=2.8.2 in /usr/local/lib/python3.11/dist-packages (from pandas>=1.0.5->category_encoders) (2.9.0.post0)\n",
            "Requirement already satisfied: pytz>=2020.1 in /usr/local/lib/python3.11/dist-packages (from pandas>=1.0.5->category_encoders) (2025.2)\n",
            "Requirement already satisfied: tzdata>=2022.7 in /usr/local/lib/python3.11/dist-packages (from pandas>=1.0.5->category_encoders) (2025.2)\n",
            "Requirement already satisfied: joblib>=1.2.0 in /usr/local/lib/python3.11/dist-packages (from scikit-learn>=1.6.0->category_encoders) (1.5.0)\n",
            "Requirement already satisfied: threadpoolctl>=3.1.0 in /usr/local/lib/python3.11/dist-packages (from scikit-learn>=1.6.0->category_encoders) (3.6.0)\n",
            "Requirement already satisfied: packaging>=21.3 in /usr/local/lib/python3.11/dist-packages (from statsmodels>=0.9.0->category_encoders) (24.2)\n",
            "Requirement already satisfied: six>=1.5 in /usr/local/lib/python3.11/dist-packages (from python-dateutil>=2.8.2->pandas>=1.0.5->category_encoders) (1.17.0)\n",
            "Downloading category_encoders-2.8.1-py3-none-any.whl (85 kB)\n",
            "\u001b[?25l   \u001b[90m━━━━━━━━━━━━━━━━━━━━━━━━━━━━━━━━━━━━━━━━\u001b[0m \u001b[32m0.0/85.7 kB\u001b[0m \u001b[31m?\u001b[0m eta \u001b[36m-:--:--\u001b[0m\r\u001b[2K   \u001b[90m━━━━━━━━━━━━━━━━━━━━━━━━━━━━━━━━━━━━━━━━\u001b[0m \u001b[32m85.7/85.7 kB\u001b[0m \u001b[31m5.4 MB/s\u001b[0m eta \u001b[36m0:00:00\u001b[0m\n",
            "\u001b[?25hInstalling collected packages: category_encoders\n",
            "Successfully installed category_encoders-2.8.1\n"
          ]
        }
      ]
    },
    {
      "cell_type": "code",
      "source": [
        "!pip install tensorboardX"
      ],
      "metadata": {
        "colab": {
          "base_uri": "https://localhost:8080/"
        },
        "id": "Xh2fAyJTw6e-",
        "outputId": "a81651cc-710d-412b-ff39-978d31495075"
      },
      "execution_count": 27,
      "outputs": [
        {
          "output_type": "stream",
          "name": "stdout",
          "text": [
            "Collecting tensorboardX\n",
            "  Downloading tensorboardX-2.6.2.2-py2.py3-none-any.whl.metadata (5.8 kB)\n",
            "Requirement already satisfied: numpy in /usr/local/lib/python3.11/dist-packages (from tensorboardX) (2.0.2)\n",
            "Requirement already satisfied: packaging in /usr/local/lib/python3.11/dist-packages (from tensorboardX) (24.2)\n",
            "Requirement already satisfied: protobuf>=3.20 in /usr/local/lib/python3.11/dist-packages (from tensorboardX) (5.29.4)\n",
            "Downloading tensorboardX-2.6.2.2-py2.py3-none-any.whl (101 kB)\n",
            "\u001b[?25l   \u001b[90m━━━━━━━━━━━━━━━━━━━━━━━━━━━━━━━━━━━━━━━━\u001b[0m \u001b[32m0.0/101.7 kB\u001b[0m \u001b[31m?\u001b[0m eta \u001b[36m-:--:--\u001b[0m\r\u001b[2K   \u001b[90m━━━━━━━━━━━━━━━━━━━━━━━━━━━━━━━━━━━━━━━━\u001b[0m \u001b[32m101.7/101.7 kB\u001b[0m \u001b[31m5.7 MB/s\u001b[0m eta \u001b[36m0:00:00\u001b[0m\n",
            "\u001b[?25hInstalling collected packages: tensorboardX\n",
            "Successfully installed tensorboardX-2.6.2.2\n"
          ]
        }
      ]
    },
    {
      "cell_type": "markdown",
      "source": [
        "# Data Loading and Preprocessing\n",
        "\n",
        "In this section, the necessary libraries for data processing, visualization, and modeling are imported. The dataset is read from a CSV file, and the target column 'No-show' is renamed to 'NoShow' for easier access in code.\n",
        "\n",
        "The target variable y is defined as the 'NoShow' column, while the feature matrix X contains all other columns. These features represent patient information and appointment-related details.\n",
        "\n",
        "To evaluate model performance reliably, the dataset is split into training and testing subsets using an 80/20 ratio."
      ],
      "metadata": {
        "id": "ExNB2cjiLcpN"
      }
    },
    {
      "cell_type": "code",
      "source": [
        "import pandas as pd\n",
        "import numpy as np\n",
        "import matplotlib.pyplot as plt\n",
        "from sklearn.model_selection import train_test_split\n",
        "from sklearn.metrics import classification_report, roc_auc_score, roc_curve\n",
        "from lib.arch import DenseBlock\n",
        "from lib.odst import ODST\n",
        "from lib.trainer import Trainer\n",
        "from lib.nn_utils import sparsemax, Entmax15Function\n",
        "\n",
        "df = pd.read_csv(next(iter(uploaded)))\n",
        "print(f\"Input dimension: {df.shape[1] - 1}\")\n",
        "\n",
        "df.rename(columns={'No-show': 'NoShow'}, inplace=True)\n",
        "\n",
        "# Target and Features\n",
        "y = df['NoShow']\n",
        "X = df.drop(columns=['NoShow'])\n",
        "\n",
        "feature_names = df.drop(columns=['NoShow']).columns\n",
        "\n",
        "# Split into train/test\n",
        "X_train, X_test, y_train, y_test = train_test_split(X, y, test_size=0.2, random_state=42, stratify=y)\n",
        "print(\"Class distribution in original train:\", np.bincount(y_train))\n",
        "print(\"Class distribution in test:          \", np.bincount(y_test))"
      ],
      "metadata": {
        "colab": {
          "base_uri": "https://localhost:8080/"
        },
        "id": "zI7yGK15lxXh",
        "outputId": "e114c4f8-81bf-4f88-e7db-f0c820c27cf1"
      },
      "execution_count": 37,
      "outputs": [
        {
          "output_type": "stream",
          "name": "stdout",
          "text": [
            "Input dimension: 148\n",
            "Class distribution in original train: [70565 17855]\n",
            "Class distribution in test:           [17642  4464]\n"
          ]
        }
      ]
    },
    {
      "cell_type": "markdown",
      "source": [
        "# Model Building, Training, and Evaluation\n",
        "\n",
        "This section describes the end-to-end modeling process using a custom deep learning model that incorporates a tree-based architecture via DenseBlock and ODST, integrated with PyTorch.\n",
        "\n",
        "###  Data Conversion & Loading\n",
        "The training and test datasets are converted from NumPy arrays to PyTorch tensors and wrapped into DataLoader objects with a batch size of 256. This makes it efficient to feed batches into the model during training.\n",
        "\n",
        "###  Model Definition\n",
        "A class ModelWithDenseBlock is defined. It uses a DenseBlock composed of multiple ODST (Oblivious Decision Tree) layers, followed by a fully connected classifier layer to output probabilities for the two classes (Show / No-Show). Custom sparse activation functions (sparsemax and entmax15) are applied to improve decision boundaries.\n",
        "\n",
        "###  Training Setup\n",
        "The model is trained using the Adam optimizer with a learning rate of 0.001 and CrossEntropyLoss as the loss function. The training loop runs for a maximum of 20 epochs. Early stopping is implemented with a patience of 5 to avoid overfitting — it stops training if validation loss doesn’t improve for 5 consecutive epochs.\n",
        "\n",
        "###  Evaluation\n",
        "After training, the best model checkpoint is loaded, and predictions are made on the test set. The predicted probabilities are thresholded at 0.5 to generate final binary predictions. A classification report is printed, showing precision, recall, and F1-score. Additionally, the ROC curve is plotted to visualize the model's ability to distinguish between classes across different thresholds, and the AUC (Area Under Curve) score is calculated to summarize performance."
      ],
      "metadata": {
        "id": "ddPr1azUL84P"
      }
    },
    {
      "cell_type": "code",
      "source": [
        "import torch\n",
        "from torch.utils.data import TensorDataset, DataLoader\n",
        "\n",
        "# Convert to PyTorch tensors\n",
        "X_train_tensor = torch.tensor(X_train.to_numpy(), dtype=torch.float32)\n",
        "X_test_tensor = torch.tensor(X_test.to_numpy(), dtype=torch.float32)\n",
        "y_train_tensor = torch.tensor(y_train.to_numpy(), dtype=torch.long)\n",
        "y_test_tensor = torch.tensor(y_test.to_numpy(), dtype=torch.long)\n",
        "\n",
        "# Create DataLoaders\n",
        "train_loader = DataLoader(TensorDataset(X_train_tensor, y_train_tensor), batch_size=256, shuffle=True)\n",
        "test_loader = DataLoader(TensorDataset(X_test_tensor, y_test_tensor), batch_size=256)\n",
        "\n",
        "# Define model\n",
        "class ModelWithDenseBlock(torch.nn.Module):\n",
        "    def __init__(self, input_dim, num_trees, num_layers, depth, tree_dim,\n",
        "                 choice_function, bin_function):\n",
        "        super().__init__()\n",
        "        self.dense_block = DenseBlock(\n",
        "            input_dim=input_dim,\n",
        "            layer_dim=num_trees,    # pass num_trees here to fit ODST signature\n",
        "            num_layers=num_layers,\n",
        "            tree_dim=tree_dim,\n",
        "            flatten_output=True,\n",
        "            Module=ODST,\n",
        "            depth=depth,\n",
        "            choice_function=choice_function,\n",
        "            bin_function=bin_function\n",
        "        )\n",
        "\n",
        "        with torch.no_grad():\n",
        "            dummy_input = torch.zeros(1, input_dim)\n",
        "            dense_output = self.dense_block(dummy_input)\n",
        "            dense_output_dim = dense_output.shape[1]\n",
        "\n",
        "        self.classifier = torch.nn.Linear(dense_output_dim, 2)  # binary classification\n",
        "\n",
        "    def forward(self, x):\n",
        "        x = self.dense_block(x)\n",
        "        x = self.classifier(x)\n",
        "        return x\n",
        "entmax15 = lambda input, dim=-1: Entmax15Function.apply(input, dim)\n",
        "\n",
        "model = ModelWithDenseBlock(\n",
        "    input_dim=X_train.shape[1],\n",
        "    num_trees=100,    # your desired num_trees\n",
        "    num_layers=3,\n",
        "    depth=5,          # corresponds to ODST's depth\n",
        "    tree_dim=1,\n",
        "    choice_function=entmax15,\n",
        "    bin_function=sparsemax\n",
        ")\n",
        "\n",
        "# Move model to device\n",
        "device = torch.device(\"cuda\" if torch.cuda.is_available() else \"cpu\")\n",
        "model.to(device)\n",
        "\n",
        "# Define optimizer and loss\n",
        "optimizer = torch.optim.Adam(model.parameters(), lr=0.001)\n",
        "loss_fn = torch.nn.CrossEntropyLoss()\n",
        "\n",
        "# Train the model\n",
        "trainer = Trainer(\n",
        "    model=model,\n",
        "    loss_function=loss_fn,\n",
        "    Optimizer=torch.optim.Adam,\n",
        "    optimizer_params={'lr': 0.001},\n",
        "    verbose=True\n",
        ")\n",
        "\n",
        "trainer.model.to(device)\n",
        "\n",
        "num_epochs = 20\n",
        "best_val_loss = float('inf')\n",
        "patience = 5\n",
        "epochs_no_improve = 0\n",
        "\n",
        "for epoch in range(num_epochs):\n",
        "    model.train()\n",
        "    total_loss = 0.0\n",
        "    for batch_idx, (inputs, labels) in enumerate(train_loader):\n",
        "        inputs, labels = inputs.to(device), labels.to(device)\n",
        "        batch_result = trainer.train_on_batch(inputs, labels, device=device)\n",
        "        total_loss += batch_result['loss'].item()\n",
        "\n",
        "    avg_train_loss = total_loss / len(train_loader)\n",
        "\n",
        "    model.eval()\n",
        "    total_val_loss = 0.0\n",
        "    with torch.no_grad():\n",
        "        for inputs, labels in test_loader:\n",
        "            inputs, labels = inputs.to(device), labels.to(device)\n",
        "            outputs = model(inputs)\n",
        "            loss = loss_fn(outputs, labels)\n",
        "            total_val_loss += loss.item()\n",
        "\n",
        "    avg_val_loss = total_val_loss / len(test_loader)\n",
        "\n",
        "    print(f\"Epoch {epoch+1}/{num_epochs} - Train Loss: {avg_train_loss:.4f} - Val Loss: {avg_val_loss:.4f}\")\n",
        "\n",
        "    # Early stopping\n",
        "    if avg_val_loss < best_val_loss:\n",
        "        best_val_loss = avg_val_loss\n",
        "        epochs_no_improve = 0\n",
        "        # Save checkpoint\n",
        "        trainer.save_checkpoint(tag='best')\n",
        "    else:\n",
        "        epochs_no_improve += 1\n",
        "        if epochs_no_improve >= patience:\n",
        "            print(\"Early stopping triggered.\")\n",
        "            break\n",
        "\n",
        "trainer.load_checkpoint(tag='best')\n",
        "model.eval()\n",
        "\n",
        "y_pred_probs = []\n",
        "y_true = []\n",
        "\n",
        "with torch.no_grad():\n",
        "    for inputs, labels in test_loader:\n",
        "        inputs, labels = inputs.to(device), labels.to(device)\n",
        "        outputs = model(inputs)\n",
        "        probs = torch.softmax(outputs, dim=1)[:, 1]\n",
        "        y_pred_probs.extend(probs.cpu().numpy())\n",
        "        y_true.extend(labels.cpu().numpy())\n",
        "\n",
        "y_pred_probs = np.array(y_pred_probs)\n",
        "y_true = np.array(y_true)\n",
        "y_pred = y_pred_probs > 0.5\n",
        "\n",
        "print(\"\\nClassification Report:\")\n",
        "print(classification_report(y_true, y_pred))\n",
        "\n",
        "auc = roc_auc_score(y_true, y_pred_probs)\n",
        "fpr, tpr, _ = roc_curve(y_true, y_pred_probs)\n",
        "\n",
        "plt.figure(figsize=(8, 6))\n",
        "plt.plot(fpr, tpr, label=f'ROC curve (AUC = {auc:.3f})')\n",
        "plt.plot([0, 1], [0, 1], 'k--')\n",
        "plt.xlabel('False Positive Rate')\n",
        "plt.ylabel('True Positive Rate')\n",
        "plt.title('ROC Curve')\n",
        "plt.legend(loc='lower right')\n",
        "plt.grid(True)\n",
        "plt.show()"
      ],
      "metadata": {
        "colab": {
          "base_uri": "https://localhost:8080/",
          "height": 1000
        },
        "id": "VBkQ-AMhmMcR",
        "outputId": "b1e6e78a-3be4-4307-bb96-19c965d235c2"
      },
      "execution_count": 42,
      "outputs": [
        {
          "output_type": "stream",
          "name": "stdout",
          "text": [
            "using automatic experiment name: untitled_2025.05.18_15:04\n",
            "Epoch 1/20 - Train Loss: 0.4967 - Val Loss: 0.4852\n",
            "Saved logs/untitled_2025.05.18_15:04/checkpoint_best.pth\n",
            "Epoch 2/20 - Train Loss: 0.4856 - Val Loss: 0.4852\n",
            "Epoch 3/20 - Train Loss: 0.4869 - Val Loss: 0.4889\n",
            "Epoch 4/20 - Train Loss: 0.4860 - Val Loss: 0.4905\n",
            "Epoch 5/20 - Train Loss: 0.4864 - Val Loss: 0.4844\n",
            "Saved logs/untitled_2025.05.18_15:04/checkpoint_best.pth\n",
            "Epoch 6/20 - Train Loss: 0.4857 - Val Loss: 0.4842\n",
            "Saved logs/untitled_2025.05.18_15:04/checkpoint_best.pth\n",
            "Epoch 7/20 - Train Loss: 0.4843 - Val Loss: 0.4862\n",
            "Epoch 8/20 - Train Loss: 0.4849 - Val Loss: 0.4847\n",
            "Epoch 9/20 - Train Loss: 0.4848 - Val Loss: 0.4839\n",
            "Saved logs/untitled_2025.05.18_15:04/checkpoint_best.pth\n",
            "Epoch 10/20 - Train Loss: 0.4833 - Val Loss: 0.4826\n",
            "Saved logs/untitled_2025.05.18_15:04/checkpoint_best.pth\n",
            "Epoch 11/20 - Train Loss: 0.4841 - Val Loss: 0.4842\n",
            "Epoch 12/20 - Train Loss: 0.4829 - Val Loss: 0.4832\n",
            "Epoch 13/20 - Train Loss: 0.4833 - Val Loss: 0.4830\n",
            "Epoch 14/20 - Train Loss: 0.4843 - Val Loss: 0.4837\n",
            "Epoch 15/20 - Train Loss: 0.4831 - Val Loss: 0.4826\n",
            "Early stopping triggered.\n",
            "Loaded logs/untitled_2025.05.18_15:04/checkpoint_best.pth\n",
            "\n",
            "Classification Report:\n",
            "              precision    recall  f1-score   support\n",
            "\n",
            "           0       0.80      1.00      0.89     17642\n",
            "           1       0.36      0.01      0.02      4464\n",
            "\n",
            "    accuracy                           0.80     22106\n",
            "   macro avg       0.58      0.50      0.45     22106\n",
            "weighted avg       0.71      0.80      0.71     22106\n",
            "\n"
          ]
        },
        {
          "output_type": "display_data",
          "data": {
            "text/plain": [
              "<Figure size 800x600 with 1 Axes>"
            ],
            "image/png": "[encoded data removed]"
          },
          "metadata": {}
        }
      ]
    },
    {
      "cell_type": "markdown",
      "source": [
        "## Training Performance Analysis\n",
        "The training logs show a relatively stable but limited improvement in both training and validation loss over 15 epochs. The model started with a training loss of 0.4967 and gradually improved to 0.4831 before early stopping triggered at epoch 15. The best validation loss achieved was 0.4826, which occurred at epochs 10 and 15. This small gap between training and validation loss suggests the model isn't overfitting, but the minimal improvement in loss values indicates the model struggled to learn more complex patterns in the data. The early stopping mechanism appropriately prevented unnecessary training when performance plateaued.\n",
        "\n",
        "## Prediction Performance Analysis\n",
        "\n",
        "The ROC curve shows moderate discriminative ability with an AUC of 0.645, which is better than random guessing (0.5) but not strong. The classification report reveals a significant class imbalance issue - while the model achieves 80% accuracy, this is largely due to correctly predicting the majority class (class 0, likely representing \"no-show = false\") with 100% recall. However, the model performs poorly on the minority class (class 1, \"no-show = true\") with only 1% recall and 36% precision. This indicates that the model essentially defaults to predicting the majority class and rarely identifies actual no-shows. The f1-score of just 0.02 for the minority class confirms this severe imbalance problem. The model needs significant improvement in handling class imbalance, possibly through techniques like SMOTE, class weighting, or threshold adjustments."
      ],
      "metadata": {
        "id": "sEuR7LtFNa57"
      }
    },
    {
      "cell_type": "code",
      "source": [
        "from imblearn.over_sampling import SMOTE\n",
        "\n",
        "# Apply SMOTE\n",
        "smote = SMOTE(random_state=42)\n",
        "X_train_balanced, y_train_balanced = smote.fit_resample(X_train, y_train)"
      ],
      "metadata": {
        "id": "4Ub-RpYGOBf-"
      },
      "execution_count": 43,
      "outputs": []
    },
    {
      "cell_type": "code",
      "source": [
        "# Convert to PyTorch tensors using the balanced data\n",
        "X_train_tensor_s = torch.tensor(X_train_balanced.to_numpy(), dtype=torch.float32)\n",
        "y_train_tensor_s = torch.tensor(y_train_balanced.to_numpy(), dtype=torch.long)\n",
        "X_test_tensor_s = torch.tensor(X_test.to_numpy(), dtype=torch.float32)\n",
        "y_test_tensor_s = torch.tensor(y_test.to_numpy(), dtype=torch.long)\n",
        "\n",
        "train_loader_s = DataLoader(TensorDataset(X_train_tensor_s, y_train_tensor_s),\n",
        "                            batch_size=256, shuffle=True)\n",
        "\n",
        "test_loader = DataLoader(TensorDataset(X_test_tensor_s, y_test_tensor_s),\n",
        "                         batch_size=256)\n",
        "\n",
        "class ModelWithDenseBlock(torch.nn.Module):\n",
        "    def __init__(self, input_dim, num_trees, num_layers, depth, tree_dim,\n",
        "                 choice_function, bin_function):\n",
        "        super().__init__()\n",
        "        self.dense_block = DenseBlock(\n",
        "            input_dim=input_dim,\n",
        "            layer_dim=num_trees,\n",
        "            num_layers=num_layers,\n",
        "            tree_dim=tree_dim,\n",
        "            flatten_output=True,\n",
        "            Module=ODST,\n",
        "            depth=depth,\n",
        "            choice_function=choice_function,\n",
        "            bin_function=bin_function\n",
        "        )\n",
        "\n",
        "        with torch.no_grad():\n",
        "            dummy_input = torch.zeros(1, input_dim)\n",
        "            dense_output = self.dense_block(dummy_input)\n",
        "            dense_output_dim = dense_output.shape[1]\n",
        "\n",
        "        self.classifier = torch.nn.Linear(dense_output_dim, 2)\n",
        "\n",
        "    def forward(self, x):\n",
        "        x = self.dense_block(x)\n",
        "        x = self.classifier(x)\n",
        "        return x\n",
        "\n",
        "# 4. Instantiate the model\n",
        "entmax15 = lambda input, dim=-1: Entmax15Function.apply(input, dim)\n",
        "\n",
        "model = ModelWithDenseBlock(\n",
        "    input_dim=X_train_tensor_s.shape[1],\n",
        "    num_trees=100,\n",
        "    num_layers=3,\n",
        "    depth=5,\n",
        "    tree_dim=1,\n",
        "    choice_function=entmax15,\n",
        "    bin_function=sparsemax\n",
        ")\n",
        "\n",
        "# 5. Setup device and optimizer/loss\n",
        "device = torch.device(\"cuda\" if torch.cuda.is_available() else \"cpu\")\n",
        "model.to(device)\n",
        "\n",
        "optimizer = torch.optim.Adam(model.parameters(), lr=0.001)\n",
        "loss_fn = torch.nn.CrossEntropyLoss()\n",
        "\n",
        "trainer = Trainer(\n",
        "    model=model,\n",
        "    loss_function=loss_fn,\n",
        "    Optimizer=torch.optim.Adam,\n",
        "    optimizer_params={'lr': 0.001},\n",
        "    verbose=True\n",
        ")\n",
        "\n",
        "trainer.model.to(device)\n",
        "\n",
        "# 6. Training loop with early stopping (same logic, just use train_loader_s)\n",
        "num_epochs = 20\n",
        "best_val_loss = float('inf')\n",
        "patience = 5\n",
        "epochs_no_improve = 0\n",
        "\n",
        "for epoch in range(num_epochs):\n",
        "    model.train()\n",
        "    total_loss = 0.0\n",
        "    for batch_idx, (inputs, labels) in enumerate(train_loader_s):  # SMOTE loader\n",
        "        inputs, labels = inputs.to(device), labels.to(device)\n",
        "        batch_result = trainer.train_on_batch(inputs, labels, device=device)\n",
        "        total_loss += batch_result['loss'].item()\n",
        "\n",
        "    avg_train_loss = total_loss / len(train_loader_s)\n",
        "\n",
        "    model.eval()\n",
        "    total_val_loss = 0.0\n",
        "    with torch.no_grad():\n",
        "        for inputs, labels in test_loader:\n",
        "            inputs, labels = inputs.to(device), labels.to(device)\n",
        "            outputs = model(inputs)\n",
        "            loss = loss_fn(outputs, labels)\n",
        "            total_val_loss += loss.item()\n",
        "\n",
        "    avg_val_loss = total_val_loss / len(test_loader)\n",
        "\n",
        "    print(f\"Epoch {epoch+1}/{num_epochs} - Train Loss: {avg_train_loss:.4f} - Val Loss: {avg_val_loss:.4f}\")\n",
        "\n",
        "    # Early stopping\n",
        "    if avg_val_loss < best_val_loss:\n",
        "        best_val_loss = avg_val_loss\n",
        "        epochs_no_improve = 0\n",
        "        trainer.save_checkpoint(tag='best_smote')  # give unique name\n",
        "    else:\n",
        "        epochs_no_improve += 1\n",
        "        if epochs_no_improve >= patience:\n",
        "            print(\"Early stopping triggered.\")\n",
        "            break\n",
        "\n",
        "# 7. Load best model and evaluate\n",
        "trainer.load_checkpoint(tag='best_smote')  # match the save tag\n",
        "model.eval()\n",
        "\n",
        "y_pred_probs = []\n",
        "y_true = []\n",
        "\n",
        "with torch.no_grad():\n",
        "    for inputs, labels in test_loader:\n",
        "        inputs, labels = inputs.to(device), labels.to(device)\n",
        "        outputs = model(inputs)\n",
        "        probs = torch.softmax(outputs, dim=1)[:, 1]\n",
        "        y_pred_probs.extend(probs.cpu().numpy())\n",
        "        y_true.extend(labels.cpu().numpy())\n",
        "\n",
        "y_pred_probs = np.array(y_pred_probs)\n",
        "y_true = np.array(y_true)\n",
        "y_pred = y_pred_probs > 0.5\n",
        "\n",
        "print(\"\\nClassification Report:\")\n",
        "print(classification_report(y_true, y_pred))\n",
        "\n",
        "auc = roc_auc_score(y_true, y_pred_probs)\n",
        "fpr, tpr, _ = roc_curve(y_true, y_pred_probs)\n",
        "\n",
        "plt.figure(figsize=(8, 6))\n",
        "plt.plot(fpr, tpr, label=f'ROC curve (AUC = {auc:.3f})')\n",
        "plt.plot([0, 1], [0, 1], 'k--')\n",
        "plt.xlabel('False Positive Rate')\n",
        "plt.ylabel('True Positive Rate')\n",
        "plt.title('ROC Curve (SMOTE-balanced training)')\n",
        "plt.legend(loc='lower right')\n",
        "plt.grid(True)\n",
        "plt.show()"
      ],
      "metadata": {
        "colab": {
          "base_uri": "https://localhost:8080/",
          "height": 949
        },
        "id": "CLH9dR2kOIwm",
        "outputId": "2b69fb47-6e98-4ca0-d9f4-cf753cd9e900"
      },
      "execution_count": 44,
      "outputs": [
        {
          "output_type": "stream",
          "name": "stdout",
          "text": [
            "using automatic experiment name: untitled_2025.05.18_16:32\n",
            "Epoch 1/20 - Train Loss: 0.6665 - Val Loss: 0.6953\n",
            "Saved logs/untitled_2025.05.18_16:32/checkpoint_best_smote.pth\n",
            "Epoch 2/20 - Train Loss: 0.6534 - Val Loss: 0.6340\n",
            "Saved logs/untitled_2025.05.18_16:32/checkpoint_best_smote.pth\n",
            "Epoch 3/20 - Train Loss: 0.6500 - Val Loss: 0.5745\n",
            "Saved logs/untitled_2025.05.18_16:32/checkpoint_best_smote.pth\n",
            "Epoch 4/20 - Train Loss: 0.6497 - Val Loss: 0.6475\n",
            "Epoch 5/20 - Train Loss: 0.6474 - Val Loss: 0.6737\n",
            "Epoch 6/20 - Train Loss: 0.6483 - Val Loss: 0.6577\n",
            "Epoch 7/20 - Train Loss: 0.6488 - Val Loss: 0.6414\n",
            "Epoch 8/20 - Train Loss: 0.6485 - Val Loss: 0.6621\n",
            "Early stopping triggered.\n",
            "Loaded logs/untitled_2025.05.18_16:32/checkpoint_best_smote.pth\n",
            "\n",
            "Classification Report:\n",
            "              precision    recall  f1-score   support\n",
            "\n",
            "           0       0.83      0.79      0.81     17642\n",
            "           1       0.30      0.35      0.32      4464\n",
            "\n",
            "    accuracy                           0.70     22106\n",
            "   macro avg       0.56      0.57      0.57     22106\n",
            "weighted avg       0.72      0.70      0.71     22106\n",
            "\n"
          ]
        },
        {
          "output_type": "display_data",
          "data": {
            "text/plain": [
              "<Figure size 800x600 with 1 Axes>"
            ],
            "image/png": "[encoded data removed]"
          },
          "metadata": {}
        }
      ]
    },
    {
      "cell_type": "markdown",
      "source": [
        "Your model was trained for up to 20 epochs, but early stopping was triggered at epoch 8 to prevent overfitting. The best validation loss was achieved at epoch 3 (Val Loss: 0.5745), and the model checkpoint from that epoch was used for evaluation. While initial training helped reduce both training and validation loss, the performance slightly plateaued after epoch 4, indicating that the model had learned the main patterns early on.\n",
        "\n",
        "### ROC Curve Insights:\n",
        "The ROC AUC is 0.650, which is above random guessing (0.5) but still far from ideal (1.0). This means the model is learning useful discriminative patterns from the data, but its ability to separate classes (especially the minority class) still has significant room for improvement. The curve rises above the diagonal, confirming the model does better than chance.\n",
        "\n",
        "Because early stopping selected the model from epoch 3, where validation loss was lowest, you're evaluating the most generalizable version of the model — not the one that overfit to training data in later epochs.\n",
        "\n",
        "* As a result, the model performed reasonably well, especially compared to training longer:\n",
        "\n",
        "* Avoided overfitting, which would have hurt performance on unseen test data.\n",
        "\n",
        "* Final AUC = 0.65 and macro average precision/recall/F1 ≈ 0.56–0.57 suggest the model captured meaningful patterns, especially with SMOTE.\n",
        "\n",
        "* It also explains why the model showed better recall for the minority class (1) than before (35% vs 1%), which is critical in imbalanced classification.\n"
      ],
      "metadata": {
        "id": "Bl_RvaN8FobC"
      }
    },
    {
      "cell_type": "markdown",
      "source": [
        "# Summary\n",
        "\n",
        "The implementation of a NODE-based model using DenseBlock with ODST layers allowed us to explore a hybrid deep learning approach that mimics decision tree behavior while being trainable via backpropagation. This architecture aimed to capture complex interactions in tabular data more effectively than standard deep neural networks.\n",
        "\n",
        "The NODE-based model demonstrated moderate success in modeling structured tabular data with class imbalance. It was particularly good at quickly capturing important features and avoiding overfitting, thanks to early stopping and sparse activations. However, it also revealed the model’s sensitivity to data imbalance, showing that preprocessing techniques like SMOTE or class weighting are essential for extracting full potential from NODE in imbalanced classification tasks.\n",
        "\n",
        "This experiment taught us that while NODE is a powerful alternative to traditional neural nets for tabular data, careful data balancing and threshold tuning are crucial for achieving strong, fair performance—especially when minority classes matter."
      ],
      "metadata": {
        "id": "4Or2m4WgHF-q"
      }
    }
  ]
}